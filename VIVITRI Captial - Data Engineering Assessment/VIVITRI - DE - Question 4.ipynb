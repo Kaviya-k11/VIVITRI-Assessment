{
 "cells": [
  {
   "cell_type": "markdown",
   "id": "de62e778",
   "metadata": {},
   "source": [
    "### Finding words which are greater than given length k\n",
    "We will take a string of words from the user along with an integer k. We will find all words whose length is greater than k.\n"
   ]
  },
  {
   "cell_type": "code",
   "execution_count": 4,
   "id": "5cfcb915",
   "metadata": {},
   "outputs": [
    {
     "name": "stdout",
     "output_type": "stream",
     "text": [
      "learn programming at include help\n"
     ]
    }
   ],
   "source": [
    "n=input().split(\" \")\n",
    "k=6\n",
    "d=list(filter(lambda x: (len(x)>k),n))\n",
    "result = ', '.join(d)\n"
   ]
  },
  {
   "cell_type": "code",
   "execution_count": 6,
   "id": "8b9d3e8f",
   "metadata": {},
   "outputs": [
    {
     "name": "stdout",
     "output_type": "stream",
     "text": [
      "programming, include\n"
     ]
    }
   ],
   "source": [
    "print(result)"
   ]
  }
 ],
 "metadata": {
  "kernelspec": {
   "display_name": "Python 3 (ipykernel)",
   "language": "python",
   "name": "python3"
  },
  "language_info": {
   "codemirror_mode": {
    "name": "ipython",
    "version": 3
   },
   "file_extension": ".py",
   "mimetype": "text/x-python",
   "name": "python",
   "nbconvert_exporter": "python",
   "pygments_lexer": "ipython3",
   "version": "3.9.7"
  }
 },
 "nbformat": 4,
 "nbformat_minor": 5
}
