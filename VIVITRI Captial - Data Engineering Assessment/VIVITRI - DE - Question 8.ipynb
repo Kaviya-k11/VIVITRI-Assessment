{
 "cells": [
  {
   "cell_type": "markdown",
   "id": "f6abfbf8",
   "metadata": {},
   "source": [
    "### Pattern Printing"
   ]
  },
  {
   "cell_type": "code",
   "execution_count": 7,
   "id": "58a61eb3",
   "metadata": {},
   "outputs": [
    {
     "name": "stdout",
     "output_type": "stream",
     "text": [
      "Enter the number :4\n",
      "1 * 2 * 3 * 4 \n",
      "1 * 2 * 3 \n",
      "1 * 2 \n",
      "1 \n"
     ]
    }
   ],
   "source": [
    "n=int(input(\"Enter the number :\"))\n",
    "for i in range(n,0,-1):\n",
    "    num=1\n",
    "    for j in range(i,0,-1):\n",
    "        if j!=i:\n",
    "            print(\"* \",end=\"\")\n",
    "        print(num,end=\" \")\n",
    "        num=num+1\n",
    "    print()"
   ]
  }
 ],
 "metadata": {
  "kernelspec": {
   "display_name": "Python 3 (ipykernel)",
   "language": "python",
   "name": "python3"
  },
  "language_info": {
   "codemirror_mode": {
    "name": "ipython",
    "version": 3
   },
   "file_extension": ".py",
   "mimetype": "text/x-python",
   "name": "python",
   "nbconvert_exporter": "python",
   "pygments_lexer": "ipython3",
   "version": "3.9.7"
  }
 },
 "nbformat": 4,
 "nbformat_minor": 5
}
