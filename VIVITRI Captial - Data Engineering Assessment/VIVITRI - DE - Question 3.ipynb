{
 "cells": [
  {
   "cell_type": "markdown",
   "id": "e95e9e7d",
   "metadata": {},
   "source": [
    "### Write a program which takes 2 digits, X,Y as input and generates a 2-dimensional array. The element value in the i-th row and j-th column of the array should be i*j."
   ]
  },
  {
   "cell_type": "code",
   "execution_count": null,
   "id": "25f4ac9d",
   "metadata": {},
   "outputs": [],
   "source": [
    "n = int(input(\"enter the row value: \"))\n",
    "m = int(input(\"enter the column value: \"))\n",
    "x = [[0 for j in range(m)] for i in range(n)]\n",
    "\n",
    "for i in range(n):\n",
    "    for j in range(m):\n",
    "    \n",
    "        x[i][j]= i*j\n",
    "\n",
    "print(x)\n"
   ]
  }
 ],
 "metadata": {
  "kernelspec": {
   "display_name": "Python 3 (ipykernel)",
   "language": "python",
   "name": "python3"
  },
  "language_info": {
   "codemirror_mode": {
    "name": "ipython",
    "version": 3
   },
   "file_extension": ".py",
   "mimetype": "text/x-python",
   "name": "python",
   "nbconvert_exporter": "python",
   "pygments_lexer": "ipython3",
   "version": "3.9.7"
  }
 },
 "nbformat": 4,
 "nbformat_minor": 5
}
