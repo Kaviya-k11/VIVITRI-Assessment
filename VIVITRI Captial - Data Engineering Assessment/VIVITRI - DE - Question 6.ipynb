{
 "cells": [
  {
   "cell_type": "markdown",
   "id": "f7307ffd",
   "metadata": {},
   "source": [
    "### Find uncommon words from two string\n",
    "We will take two strings as input from users consisting of words. And then we will print all words from the string that are not present in both the strings.\n",
    "The string consists of sentences that are space-separated words.\n",
    "Example:\n",
    "Input:\n",
    "str1 = \"learn programming at includehelp\"\n",
    "str2 = \"learn python programming language\"\n"
   ]
  },
  {
   "cell_type": "code",
   "execution_count": 2,
   "id": "a2379fda",
   "metadata": {},
   "outputs": [
    {
     "name": "stdout",
     "output_type": "stream",
     "text": [
      "{'language', 'includehelp', 'python', 'at'}\n"
     ]
    }
   ],
   "source": [
    "str1=\"learn programming at includehelp\"\n",
    "str2=\"learn python programming language\"\n",
    "x= str1.split()\n",
    "y= str2.split()\n",
    "str= set(x).symmetric_difference(set(y))\n",
    "print(str)"
   ]
  },
  {
   "cell_type": "code",
   "execution_count": null,
   "id": "75a6da23",
   "metadata": {},
   "outputs": [],
   "source": []
  }
 ],
 "metadata": {
  "kernelspec": {
   "display_name": "Python 3 (ipykernel)",
   "language": "python",
   "name": "python3"
  },
  "language_info": {
   "codemirror_mode": {
    "name": "ipython",
    "version": 3
   },
   "file_extension": ".py",
   "mimetype": "text/x-python",
   "name": "python",
   "nbconvert_exporter": "python",
   "pygments_lexer": "ipython3",
   "version": "3.9.7"
  }
 },
 "nbformat": 4,
 "nbformat_minor": 5
}
