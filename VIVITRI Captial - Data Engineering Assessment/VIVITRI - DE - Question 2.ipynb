{
 "cells": [
  {
   "cell_type": "markdown",
   "id": "ad5cdce1",
   "metadata": {},
   "source": [
    "### A website requires the users to input username and password to register. Write a program to check the validity of password input by users.\n",
    "\tFollowing are the criteria for checking the password:\n",
    "\t1. At least 1 letter between [a-z]\n",
    "\t2. At least 1 number between [0-9]\n",
    "\t1. At least 1 letter between [A-Z]\n",
    "\t3. At least 1 character from [$#@]\n",
    "\t4. Minimum length of transaction password: 6\n",
    "\t5. Maximum length of transaction password: 12\n",
    "\tYour program should accept a sequence of comma separated passwords and will check them according to the above criteria. Passwords that match the criteria are to be printed, each separated by a comma.\n"
   ]
  },
  {
   "cell_type": "code",
   "execution_count": 2,
   "id": "ea7c2d4c",
   "metadata": {},
   "outputs": [
    {
     "name": "stdout",
     "output_type": "stream",
     "text": [
      "Enter the password :ABd1234@1,a F1#,2w3E*,2We3345\n",
      "ABd1234@1\n"
     ]
    }
   ],
   "source": [
    "import re\n",
    "s=input(\"Enter the password :\")\n",
    "x=s.split(\",\")\n",
    "for i in x:\n",
    "    if(len(i)>=6 and len(i)<=12):\n",
    "        if re.search(\"([a-z])+\", i):\n",
    "            if re.search(\"([A-Z])+\", i):\n",
    "                if re.search(\"([0-9])+\", i):\n",
    "                    if re.search(\"([#,@,$])+\", i):\n",
    "                        print(i)\n"
   ]
  }
 ],
 "metadata": {
  "kernelspec": {
   "display_name": "Python 3 (ipykernel)",
   "language": "python",
   "name": "python3"
  },
  "language_info": {
   "codemirror_mode": {
    "name": "ipython",
    "version": 3
   },
   "file_extension": ".py",
   "mimetype": "text/x-python",
   "name": "python",
   "nbconvert_exporter": "python",
   "pygments_lexer": "ipython3",
   "version": "3.9.7"
  }
 },
 "nbformat": 4,
 "nbformat_minor": 5
}
